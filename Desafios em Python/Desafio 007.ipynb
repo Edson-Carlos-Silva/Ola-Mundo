{
 "cells": [
  {
   "cell_type": "markdown",
   "id": "75778cfe",
   "metadata": {},
   "source": [
    "<h3> Desafio 07: Cliente é um bicho folgado. Vive inventando e pedindo coisas, e tudo acaba sobrando para o coitado do programador.<br>\n",
    "\n",
    "Um cliente pediu que o sistema do banco tivesse a seguinte função:\n",
    "Dizer o valor inicial que ele deve investir, para ao final de 'm' meses ele tenha um valor 'vf', supondo que este dinheiro esteja rendendo uma rentabilidade 'i' mensal, em porcentagem esse 'i'.\n",
    "\n",
    "Faça um programa que pede o valor final, o tanto de meses que vai ficar aplicado, a rentabilidade e o script mostra o valor inicial que ele deve investir para atingir tal objetivo. </h3> \n",
    "\n",
    "C =  M / (1 + i)^n"
   ]
  },
  {
   "cell_type": "code",
   "execution_count": 16,
   "id": "7c0d79ce",
   "metadata": {},
   "outputs": [
    {
     "name": "stdout",
     "output_type": "stream",
     "text": [
      "Quanto você espera ter? 100\n",
      "Quala a taxa de rentabilidade esperada em %? 1\n",
      "Por quanto tempo o dinheiro firacá investido? 12\n",
      "Par você ter R$ 100.0 em 12 meses, terá que investir inicialmente R$ 88.7449 com uma taxa de 1.0% ao mês\n"
     ]
    }
   ],
   "source": [
    "#Ler o valor final desejado\n",
    "montante = float(input('Quanto você espera ter? '))\n",
    "\n",
    "#Ler a taxa \n",
    "taxa = float(input('Quala a taxa de rentabilidade esperada em %? '))\n",
    "\n",
    "\n",
    "#ler período\n",
    "tempo = int(input('Por quanto tempo o dinheiro firacá investido? '))\n",
    "\n",
    "#calcular Capital inicial\n",
    "capital_inicial = montante / ((1 + taxa/100)**tempo)\n",
    "\n",
    "#exibir capital inicial\n",
    "print('Par você ter R$ {} em {} meses, terá que investir inicialmente R$ {:.4f} com uma taxa de {}% ao mês'.format(montate, tempo, capital_inicial, taxa))"
   ]
  },
  {
   "cell_type": "code",
   "execution_count": null,
   "id": "dc7f375c",
   "metadata": {},
   "outputs": [],
   "source": []
  }
 ],
 "metadata": {
  "kernelspec": {
   "display_name": "Python 3 (ipykernel)",
   "language": "python",
   "name": "python3"
  },
  "language_info": {
   "codemirror_mode": {
    "name": "ipython",
    "version": 3
   },
   "file_extension": ".py",
   "mimetype": "text/x-python",
   "name": "python",
   "nbconvert_exporter": "python",
   "pygments_lexer": "ipython3",
   "version": "3.9.7"
  }
 },
 "nbformat": 4,
 "nbformat_minor": 5
}
