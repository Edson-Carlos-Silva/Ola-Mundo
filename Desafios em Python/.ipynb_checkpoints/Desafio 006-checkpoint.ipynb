{
 "cells": [
  {
   "cell_type": "markdown",
   "id": "cf9c91db",
   "metadata": {},
   "source": [
    "<h3> Desafio 06: Uma boa parte dos sistemas bancários foram programados há décadas.\n",
    "O diretor de um grande banco decidiu que era hora de se modernizar, usando uma linguagem mais moderna, segura e poderosa.\n",
    "Obviamente, escolheu o Python e contratou você para trabalhar no novo sistema. <br>\n",
    "    \n",
    "Sua primeira tarefa é criar um programa envolvendo a poupança.\n",
    "Você vai perguntar o valor inicial investido na poupança, a rentabilidade mensal, quantos meses o cliente deseja deixar o dinheiro investido e mostrar o valor final na conta do cliente do banco.\n",
    "   \n",
    "A fórmula dos juros compostos é a seguinte:</h3> \n",
    "\n",
    "M = C x (1 + i)^n\n"
   ]
  },
  {
   "cell_type": "code",
   "execution_count": 11,
   "id": "6a884607",
   "metadata": {},
   "outputs": [
    {
     "name": "stdout",
     "output_type": "stream",
     "text": [
      "Quanto você vai investir inicialmente? 100\n",
      "Qual a taxa mensal de rentabilidade esperada? 1\n",
      "Quanto tempo pretende deixa o dinheiro investido? 12\n",
      "Caso você invista R$100.0 com uma taxa de 1.0% ao mês\n",
      "No final do período de 12 meses, você terá na conta R$ 112.68250301319698\n"
     ]
    }
   ],
   "source": [
    "# Ler o valor inicila a ser investido\n",
    "valor_investido = float(input('Quanto você vai investir inicialmente? '))\n",
    "\n",
    "# Ler a taxa mensal\n",
    "taxa_retabilidade = float(input('Qual a taxa mensal de rentabilidade esperada? '))\n",
    "taxa_decimal = taxa_retabilidade/100\n",
    "\n",
    "# Ler o tempo de investimento\n",
    "tempo_invest = int(input('Quanto tempo pretende deixa o dinheiro investido? '))\n",
    "\n",
    "# Calular o montante\n",
    "montante = valor_investido * ((1 + taxa_decimal)**tempo_invest)\n",
    "\n",
    "# Exibir o montante na tela\n",
    "print('Caso você invista R${} com uma taxa de {}% ao mês'.format(valor_investido, taxa_retabilidade))\n",
    "print('No final do período de {} meses, você terá na conta R$ {}'.format(tempo_invest, montante))\n",
    "\n"
   ]
  },
  {
   "cell_type": "code",
   "execution_count": null,
   "id": "e6ecfc13",
   "metadata": {},
   "outputs": [],
   "source": []
  }
 ],
 "metadata": {
  "kernelspec": {
   "display_name": "Python 3 (ipykernel)",
   "language": "python",
   "name": "python3"
  },
  "language_info": {
   "codemirror_mode": {
    "name": "ipython",
    "version": 3
   },
   "file_extension": ".py",
   "mimetype": "text/x-python",
   "name": "python",
   "nbconvert_exporter": "python",
   "pygments_lexer": "ipython3",
   "version": "3.9.7"
  }
 },
 "nbformat": 4,
 "nbformat_minor": 5
}
