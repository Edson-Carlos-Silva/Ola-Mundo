{
 "cells": [
  {
   "cell_type": "markdown",
   "id": "e434943c",
   "metadata": {},
   "source": [
    "<h3> 02 - Você está no Brasil, e para temperatura usamos o grau Celsius. Porém, quando você for contratado para trabalhar como programador Python no exterior, deverá usar graus Fahrenheit. <br>\n",
    "\n",
    "Ou seja, você fornece a temperatura em graus Celsius, e seu script faz a conversão para graus Fahrenheit.</h3> \n"
   ]
  },
  {
   "cell_type": "code",
   "execution_count": 4,
   "id": "b9c446da",
   "metadata": {},
   "outputs": [
    {
     "name": "stdout",
     "output_type": "stream",
     "text": [
      "Quanto é a temperatura ? 100\n",
      "100.0 graus Celcius equivale a 212.0 graus Fahrenheit\n"
     ]
    }
   ],
   "source": [
    "#ler o valor em graus celcius\n",
    "celcius = float(input('Quanto é a temperatura ? '))\n",
    "\n",
    "#converver para Fahrenheit\n",
    "fahr = 1.8 * celcius + 32\n",
    "\n",
    "#Exibir na tela\n",
    "print('{} graus Celcius equivale a {} graus Fahrenheit' .format(celcius, fahr))\n"
   ]
  },
  {
   "cell_type": "code",
   "execution_count": null,
   "id": "d75304cb",
   "metadata": {},
   "outputs": [],
   "source": []
  },
  {
   "cell_type": "code",
   "execution_count": null,
   "id": "61c8b8ef",
   "metadata": {},
   "outputs": [],
   "source": []
  },
  {
   "cell_type": "code",
   "execution_count": null,
   "id": "d9e60ea3",
   "metadata": {},
   "outputs": [],
   "source": []
  },
  {
   "cell_type": "code",
   "execution_count": null,
   "id": "3af4d660",
   "metadata": {},
   "outputs": [],
   "source": []
  },
  {
   "cell_type": "code",
   "execution_count": null,
   "id": "56702575",
   "metadata": {},
   "outputs": [],
   "source": []
  },
  {
   "cell_type": "markdown",
   "id": "8e2f71f0",
   "metadata": {},
   "source": [
    "<h3> 03 - Agora faça o contrário. Você fornece a temperatura em graus Fahrenheit, seu programa conversar para Celsius e exibe na tela.</h3> "
   ]
  },
  {
   "cell_type": "code",
   "execution_count": 6,
   "id": "25a25d9d",
   "metadata": {},
   "outputs": [
    {
     "name": "stdout",
     "output_type": "stream",
     "text": [
      "Qual a temperatura em fahrenheit? 212\n",
      "212.0 graus Fahrenheit equivale a 100.0 graus Celcius\n"
     ]
    }
   ],
   "source": [
    "# Ler a temperatura em Fahreinheit\n",
    "fah = float(input('Qual a temperatura em fahrenheit? '))\n",
    "\n",
    "# Calculo em Celcius\n",
    "cel = (fah - 32) / 1.8\n",
    "\n",
    "# Exibir na tela \n",
    "print('{} graus Fahrenheit equivale a {} graus Celcius' .format(fah, cel))"
   ]
  },
  {
   "cell_type": "code",
   "execution_count": null,
   "id": "605d4e3c",
   "metadata": {},
   "outputs": [],
   "source": []
  }
 ],
 "metadata": {
  "kernelspec": {
   "display_name": "Python 3 (ipykernel)",
   "language": "python",
   "name": "python3"
  },
  "language_info": {
   "codemirror_mode": {
    "name": "ipython",
    "version": 3
   },
   "file_extension": ".py",
   "mimetype": "text/x-python",
   "name": "python",
   "nbconvert_exporter": "python",
   "pygments_lexer": "ipython3",
   "version": "3.9.7"
  }
 },
 "nbformat": 4,
 "nbformat_minor": 5
}
