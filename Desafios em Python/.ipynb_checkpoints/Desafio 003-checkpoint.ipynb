{
 "cells": [
  {
   "cell_type": "markdown",
   "id": "329bc414",
   "metadata": {},
   "source": [
    "## Desafio 003\n",
    "\n",
    "Crie um programa que exiba na tela o texto: </br>\n",
    "<b>'A melhor banda do mundo é [nome da banda] e a melhor música é [nome da música]'. </br></b>\n",
    "O nome da banda e o nome da música devem estar declarados em duas variáveis diferentes."
   ]
  },
  {
   "cell_type": "code",
   "execution_count": 5,
   "id": "98575afb",
   "metadata": {},
   "outputs": [
    {
     "name": "stdout",
     "output_type": "stream",
     "text": [
      "Qual o nome da banda? Limão com mel\n",
      "Qual o nome da músisca? menino bicho\n",
      "A melhor banda do mundo é Limão com mel e a melhor música é menino bicho\n",
      "A melhor banda do mundo é Limão com mele a mlhor musica do mundo é menino bicho\n"
     ]
    }
   ],
   "source": [
    "#variáveis\n",
    "banda = input('Qual o nome da banda? ')\n",
    "musica = input('Qual o nome da músisca? ')\n",
    "\n",
    "#exibindo na tela \n",
    "\n",
    "print('A melhor banda do mundo é {} e a melhor música é {}'.format(banda, musica))\n",
    "\n",
    "print('A melhor banda do mundo é ' + banda + 'e a mlhor musica do mundo é ' + musica)\n"
   ]
  },
  {
   "cell_type": "code",
   "execution_count": null,
   "id": "390b356c",
   "metadata": {},
   "outputs": [],
   "source": []
  }
 ],
 "metadata": {
  "kernelspec": {
   "display_name": "Python 3 (ipykernel)",
   "language": "python",
   "name": "python3"
  },
  "language_info": {
   "codemirror_mode": {
    "name": "ipython",
    "version": 3
   },
   "file_extension": ".py",
   "mimetype": "text/x-python",
   "name": "python",
   "nbconvert_exporter": "python",
   "pygments_lexer": "ipython3",
   "version": "3.9.7"
  }
 },
 "nbformat": 4,
 "nbformat_minor": 5
}
