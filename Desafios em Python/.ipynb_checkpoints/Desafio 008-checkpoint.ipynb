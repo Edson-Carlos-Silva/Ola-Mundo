{
 "cells": [
  {
   "cell_type": "markdown",
   "id": "042fbad5",
   "metadata": {},
   "source": [
    "Exercício 13: Devido a crise que está ocorrendo no Brasil, demitiram o professor de Matemática.\n",
    "\n",
    "E adivinhe para quem sobrou? Claro, pra sua tia.\n",
    "Agora ela vai dar aula de Matemática também.\n",
    "\n",
    "Faça um programa em Python que receba as notas de Português, Inglês e Matemática de um aluno, e em seguida forneça a média aritmética dessas notas.\n",
    "\n",
    "Não se esqueça de usar parêntesis no cálculo da média, para não ter problemas de precedência de operadores.\n"
   ]
  },
  {
   "cell_type": "code",
   "execution_count": 2,
   "id": "81e87e8b",
   "metadata": {},
   "outputs": [
    {
     "name": "stdout",
     "output_type": "stream",
     "text": [
      "Digite a nota de Matemática: 1\n",
      "Digite a nota de Português: 1\n",
      "Digite a nota de inglês: 1\n",
      "A média entre 1.0, 1.0, 1.0 é 1.0\n"
     ]
    }
   ],
   "source": [
    "mat = float(input('Digite a nota de Matemática: '))\n",
    "por = float(input('Digite a nota de Português: '))\n",
    "ing = float(input('Digite a nota de inglês: '))\n",
    "\n",
    "media = (mat + por + ing) / 3\n",
    "\n",
    "print('A média entre {}, {}, {} é {}' .format(mat, por, ing, media))"
   ]
  },
  {
   "cell_type": "code",
   "execution_count": null,
   "id": "2957ff7f",
   "metadata": {},
   "outputs": [],
   "source": []
  }
 ],
 "metadata": {
  "kernelspec": {
   "display_name": "Python 3 (ipykernel)",
   "language": "python",
   "name": "python3"
  },
  "language_info": {
   "codemirror_mode": {
    "name": "ipython",
    "version": 3
   },
   "file_extension": ".py",
   "mimetype": "text/x-python",
   "name": "python",
   "nbconvert_exporter": "python",
   "pygments_lexer": "ipython3",
   "version": "3.9.7"
  }
 },
 "nbformat": 4,
 "nbformat_minor": 5
}
