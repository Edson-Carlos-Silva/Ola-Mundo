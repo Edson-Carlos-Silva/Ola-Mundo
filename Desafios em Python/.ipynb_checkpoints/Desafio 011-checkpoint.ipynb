{
 "cells": [
  {
   "cell_type": "markdown",
   "id": "faf5e2f6",
   "metadata": {},
   "source": [
    "04 - Um novo modelo de carro, super econômico foi lançado.\n",
    "Ele faz 20 km com 1 litro de combustível.\n",
    "Cada litro de combustível custa R$ 8,30.\n",
    "\n",
    "Faça um programa que pergunte ao usuário quanto de dinheiro ele tem e em seguida diga quantos litros de combustível ele pode comprar e quantos quilômetros o carro consegue andar com este tanto de combustível.\n",
    "\n",
    "Seu script será usado no computador de bordo do carro.\n"
   ]
  },
  {
   "cell_type": "code",
   "execution_count": 9,
   "id": "f07206af",
   "metadata": {},
   "outputs": [
    {
     "name": "stdout",
     "output_type": "stream",
     "text": [
      "Quanto dinheiro você tem? 100\n",
      "É possível comprar 12.05 litros de combustível\n",
      "É possível rodar 240.96 km com essa quantidade de combustível\n"
     ]
    }
   ],
   "source": [
    "# Ler o valor que o cliente tem\n",
    "tenho = float(input('Quanto dinheiro você tem? '))\n",
    "\n",
    "#calcular quantos litros pode ser comprado\n",
    "litros = tenho / 8.30\n",
    "\n",
    "#calcular quantos km ele pode andar\n",
    "autonomia = litros * 20\n",
    "\n",
    "#Exibir na tela\n",
    "print('É possível comprar {:.2f} litros de combustível'.format(litros))\n",
    "print('É possível rodar {:.2f} km com essa quantidade de combustível'. format(autonomia))\n",
    "\n"
   ]
  },
  {
   "cell_type": "code",
   "execution_count": 8,
   "id": "f55d1e09",
   "metadata": {},
   "outputs": [
    {
     "name": "stdout",
     "output_type": "stream",
     "text": [
      "Quantos km seu veículo faz com 1 litro de combustível 20\n",
      "Quanto está o litro de combustível na sua região? R$ 8.30\n",
      "Quanto dinheiro você tem? 100\n",
      "É possível comprar 12.05 litros de combustível\n",
      "É possível percorrer 240.96 km com essa quantidade de combustível\n"
     ]
    }
   ],
   "source": [
    "#Ler o consumo\n",
    "consumo = float(input('Quantos km seu veículo faz com 1 litro de combustível '))\n",
    "\n",
    "# Ler o preço do combustível\n",
    "preco_combustivel = float(input('Quanto está o litro de combustível na sua região? R$ '))\n",
    "\n",
    "# Ler quanto dinheir possui\n",
    "tenho_dinheiro = float(input('Quanto dinheiro você tem? '))\n",
    "\n",
    "# Calcular quantos litros comprados\n",
    "litros_comprados = tenho_dinheiro / preco_combustivel\n",
    "\n",
    "# Calcular quantos km ele pode andar\n",
    "autonomia_geral = litros_comprados * consumo\n",
    "\n",
    "# Exibir na tela\n",
    "print('É possível comprar {:.2f} litros de combustível'.format(litros_comprados))\n",
    "print('É possível percorrer {:.2f} km com essa quantidade de combustível'.format(autonomia_geral))\n"
   ]
  },
  {
   "cell_type": "code",
   "execution_count": null,
   "id": "b60ecee3",
   "metadata": {},
   "outputs": [],
   "source": []
  }
 ],
 "metadata": {
  "kernelspec": {
   "display_name": "Python 3 (ipykernel)",
   "language": "python",
   "name": "python3"
  },
  "language_info": {
   "codemirror_mode": {
    "name": "ipython",
    "version": 3
   },
   "file_extension": ".py",
   "mimetype": "text/x-python",
   "name": "python",
   "nbconvert_exporter": "python",
   "pygments_lexer": "ipython3",
   "version": "3.9.7"
  }
 },
 "nbformat": 4,
 "nbformat_minor": 5
}
