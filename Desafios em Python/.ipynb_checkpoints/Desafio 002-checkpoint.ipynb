{
 "cells": [
  {
   "cell_type": "markdown",
   "id": "92376e43",
   "metadata": {},
   "source": [
    "### Desafio 02\n",
    "\n",
    "Crie um programa que exiba na tela seu nome completo, sua cidade, estado e data de nascimento.\n",
    "\n",
    "Para cada dado desse, crie uma variável apropriada. Use nomes que façam sentido ('cidade', 'estado', etc)"
   ]
  },
  {
   "cell_type": "code",
   "execution_count": 1,
   "id": "f730cc2b",
   "metadata": {},
   "outputs": [
    {
     "name": "stdout",
     "output_type": "stream",
     "text": [
      "digite seu nome completo: adsa\n",
      "digite seu nome completo: asd\n",
      "digite seu nome completo: asd\n",
      "digite seu nome completo: asd\n",
      "digite seu nome completo: asd\n",
      "digite seu nome completo: asd\n",
      "digite seu nome completo: asd\n"
     ]
    }
   ],
   "source": [
    "nome = input('digite seu nome completo: ')\n",
    "cidade = input('digite seu nome completo: ')\n",
    "pais = input('digite seu nome completo: ')\n",
    "estado = input('digite seu nome completo: ')\n",
    "dnascimento = input('digite seu nome completo: ')\n",
    "idade = input('digite seu nome completo: ')\n",
    "sexo = input('digite seu nome completo: ')\n",
    "\n",
    "\n",
    " \n"
   ]
  },
  {
   "cell_type": "code",
   "execution_count": null,
   "id": "d5bbcf43",
   "metadata": {},
   "outputs": [],
   "source": []
  },
  {
   "cell_type": "code",
   "execution_count": null,
   "id": "353c1ab2",
   "metadata": {},
   "outputs": [],
   "source": []
  }
 ],
 "metadata": {
  "kernelspec": {
   "display_name": "Python 3 (ipykernel)",
   "language": "python",
   "name": "python3"
  },
  "language_info": {
   "codemirror_mode": {
    "name": "ipython",
    "version": 3
   },
   "file_extension": ".py",
   "mimetype": "text/x-python",
   "name": "python",
   "nbconvert_exporter": "python",
   "pygments_lexer": "ipython3",
   "version": "3.9.7"
  }
 },
 "nbformat": 4,
 "nbformat_minor": 5
}
