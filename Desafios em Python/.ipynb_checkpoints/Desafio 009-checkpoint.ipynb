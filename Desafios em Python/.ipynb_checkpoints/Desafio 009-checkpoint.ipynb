{
 "cells": [
  {
   "cell_type": "markdown",
   "id": "919c088b",
   "metadata": {},
   "source": [
    "01. Escreva um programa que pede o raio de um círculo, e em seguida exiba o perímetro e área do círculo.\n"
   ]
  },
  {
   "cell_type": "code",
   "execution_count": 7,
   "id": "d9b24bcb",
   "metadata": {},
   "outputs": [
    {
     "name": "stdout",
     "output_type": "stream",
     "text": [
      "Qual o valor do raio? 10\n",
      "O perímetro de uma circunferência de raio 10.0 é exatamente 62.800000000000004\n",
      "A área de uma circunferência de raio 10.0 é exatamente 314.0\n"
     ]
    }
   ],
   "source": [
    "#Ler o valor do raio\n",
    "raio = float(input('Qual o valor do raio? '))\n",
    "\n",
    "#calcular a área\n",
    "area = 3.14 * raio**2\n",
    "\n",
    "#calcular o diâmetro\n",
    "perimetro = 2 * 3.14 * raio\n",
    "\n",
    "#Exibir na tela os valores\n",
    "print('O perímetro de uma circunferência de raio {} é exatamente {}'.format(raio, perimetro))\n",
    "print('A área de uma circunferência de raio {} é exatamente {}'.format(raio, area))\n",
    "\n"
   ]
  },
  {
   "cell_type": "code",
   "execution_count": null,
   "id": "f50f4a2f",
   "metadata": {},
   "outputs": [],
   "source": []
  }
 ],
 "metadata": {
  "kernelspec": {
   "display_name": "Python 3 (ipykernel)",
   "language": "python",
   "name": "python3"
  },
  "language_info": {
   "codemirror_mode": {
    "name": "ipython",
    "version": 3
   },
   "file_extension": ".py",
   "mimetype": "text/x-python",
   "name": "python",
   "nbconvert_exporter": "python",
   "pygments_lexer": "ipython3",
   "version": "3.9.7"
  }
 },
 "nbformat": 4,
 "nbformat_minor": 5
}
