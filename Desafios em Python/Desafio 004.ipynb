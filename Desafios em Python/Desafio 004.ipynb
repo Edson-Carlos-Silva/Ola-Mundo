{
 "cells": [
  {
   "cell_type": "markdown",
   "id": "8076ee90",
   "metadata": {},
   "source": [
    "## Desafio 04\n",
    "\n",
    "<h3> Crie um programa em Python que peça dois números ao usuário. </br>\n",
    "Em seguida, você vai mostrar a soma, subtração, multiplicação, divisão, exponenciação e resto da divisão do primeiro número pelo segundo.</br>"
   ]
  },
  {
   "cell_type": "code",
   "execution_count": 7,
   "id": "8319c39e",
   "metadata": {},
   "outputs": [
    {
     "name": "stdout",
     "output_type": "stream",
     "text": [
      "Digite um número: 3\n",
      "Digite outro número: 3\n",
      "Soma             3.0  +  3.0 = 6.0\n",
      "Subtração        3.0  -  3.0 = 0.0\n",
      "Multiplixação    3.0  *  3.0 = 9.0\n",
      "Divisão          3.0  /  3.0 = 1.0\n",
      "Potência         3.0  ** 3.0 = 27.0\n",
      "Resto da divisão 3.0  %  3.0 = 0.0\n"
     ]
    }
   ],
   "source": [
    "#Pedir os dois números\n",
    "numero1 = float(input('Digite um número: '))\n",
    "numero2 = float(input('Digite outro número: '))\n",
    "\n",
    "#Exibir as operações\n",
    "\n",
    "print('Soma             {}  +  {} = {}'.format(numero1, numero2,numero1+numero2 ))\n",
    "print('Subtração        {}  -  {} = {}' .format(numero1, numero2, numero1-numero2))\n",
    "print('Multiplixação    {}  *  {} = {}' .format(numero1, numero2, numero1*numero2))\n",
    "print('Divisão          {}  /  {} = {}' .format(numero1, numero2, numero1/numero2))\n",
    "print('Potência         {}  ** {} = {}' .format(numero1, numero2, numero1**numero2))\n",
    "print('Resto da divisão {}  %  {} = {}' .format(numero1, numero2, numero1%numero2))\n",
    "\n",
    "\n",
    "\n",
    "\n"
   ]
  },
  {
   "cell_type": "code",
   "execution_count": null,
   "id": "a7619cac",
   "metadata": {},
   "outputs": [],
   "source": []
  }
 ],
 "metadata": {
  "kernelspec": {
   "display_name": "Python 3 (ipykernel)",
   "language": "python",
   "name": "python3"
  },
  "language_info": {
   "codemirror_mode": {
    "name": "ipython",
    "version": 3
   },
   "file_extension": ".py",
   "mimetype": "text/x-python",
   "name": "python",
   "nbconvert_exporter": "python",
   "pygments_lexer": "ipython3",
   "version": "3.9.7"
  }
 },
 "nbformat": 4,
 "nbformat_minor": 5
}
