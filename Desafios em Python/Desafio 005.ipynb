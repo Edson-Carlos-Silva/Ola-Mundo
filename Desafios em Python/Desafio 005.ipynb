{
 "cells": [
  {
   "cell_type": "markdown",
   "id": "7b448e23",
   "metadata": {},
   "source": [
    "#### Desafio 05: Sua primeira tarefa é criar um programa em Python que pede o preço original de um produto e dá 20% de desconto."
   ]
  },
  {
   "cell_type": "code",
   "execution_count": 7,
   "id": "6048947d",
   "metadata": {},
   "outputs": [
    {
     "name": "stdout",
     "output_type": "stream",
     "text": [
      "Digite o valor do produto: 100\n",
      "Com o desconto de 20% o valor do produto será R$ 80.0\n"
     ]
    }
   ],
   "source": [
    "#Pedir o preço e salvar em uma variável\n",
    "preco_original = float(input('Digite o valor do produto: '))\n",
    "\n",
    "#calculando desconto: \n",
    "desconto = preco_original * 20/100\n",
    "\n",
    "#preço final = preco_inicial - desconto\n",
    "preco_final = preco_original - desconto\n",
    "\n",
    "#Exibir na tela o preço final\n",
    "print('Com o desconto de 20% o valor do produto será R$ {}'.format(preco_final))"
   ]
  },
  {
   "cell_type": "code",
   "execution_count": null,
   "id": "41d9b3d0",
   "metadata": {},
   "outputs": [],
   "source": []
  },
  {
   "cell_type": "code",
   "execution_count": null,
   "id": "ace9da84",
   "metadata": {},
   "outputs": [],
   "source": []
  },
  {
   "cell_type": "code",
   "execution_count": null,
   "id": "29837b45",
   "metadata": {},
   "outputs": [],
   "source": []
  },
  {
   "cell_type": "markdown",
   "id": "6a9dc378",
   "metadata": {},
   "source": [
    "#### A loja percebeu que não quer dar 20% em tudo. Quer dar 20% em algumas coisas, 10% em outra, nada em outro produto e até 30% em alguns outros produtos.\n",
    "\n",
    "#### Crie um script em Python que pergunte o preço original e o desconto que deve ser concedido.\n",
    "#### Ele deve mostrar a tabela igual a do exercício anterior.\n"
   ]
  },
  {
   "cell_type": "code",
   "execution_count": 10,
   "id": "a000481a",
   "metadata": {},
   "outputs": [
    {
     "name": "stdout",
     "output_type": "stream",
     "text": [
      "Digite o valor do produto 100\n",
      "Quanto de desconto será dado? 20\n",
      "Com o desconto de 20.0% o valor final do produto será R$ 80.0\n"
     ]
    }
   ],
   "source": [
    "#Ler o preço orgininal\n",
    "valor_inicial = float(input('Digite o valor do produto '))\n",
    "\n",
    "#ler o desconto dado\n",
    "pc_de_desconto = float(input('Quanto de desconto será dado? '))\n",
    "\n",
    "#Calcular o desconto\n",
    "desconto_1 = valor_inicial * pc_de_desconto/100\n",
    "\n",
    "#Calcular o valor final do produto com desconto\n",
    "valor_final = valor_inicial - desconto_1\n",
    "\n",
    "#exibir na tela o valor final\n",
    "print('Com o desconto de {}% o valor final do produto será R$ {}' .format(pc_de_desconto, valor_final))"
   ]
  },
  {
   "cell_type": "code",
   "execution_count": null,
   "id": "d61038aa",
   "metadata": {},
   "outputs": [],
   "source": []
  }
 ],
 "metadata": {
  "kernelspec": {
   "display_name": "Python 3 (ipykernel)",
   "language": "python",
   "name": "python3"
  },
  "language_info": {
   "codemirror_mode": {
    "name": "ipython",
    "version": 3
   },
   "file_extension": ".py",
   "mimetype": "text/x-python",
   "name": "python",
   "nbconvert_exporter": "python",
   "pygments_lexer": "ipython3",
   "version": "3.9.7"
  }
 },
 "nbformat": 4,
 "nbformat_minor": 5
}
