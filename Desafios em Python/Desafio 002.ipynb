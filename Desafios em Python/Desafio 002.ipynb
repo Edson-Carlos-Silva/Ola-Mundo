{
 "cells": [
  {
   "cell_type": "markdown",
   "id": "ff84f946",
   "metadata": {},
   "source": [
    "### Desafio 02\n",
    "\n",
    "site: https://www.pythonprogressivo.net/\n",
    "\n",
    "Crie um programa que exiba na tela seu nome completo, sua cidade, estado e data de nascimento.\n",
    "\n",
    "Para cada dado desse, crie uma variável apropriada. Use nomes que façam sentido ('cidade', 'estado', etc)"
   ]
  },
  {
   "cell_type": "code",
   "execution_count": 10,
   "id": "0c54f3fb",
   "metadata": {},
   "outputs": [
    {
     "name": "stdout",
     "output_type": "stream",
     "text": [
      "Digite seu nome Ricardo Pereira \n",
      "Qual a cidade que você mora? Uruburetama\n",
      "Em qual estado você nasceu? Pernambuco\n",
      "Qual a sua data de nascimento ex. dd/mm/aaaa? 05/07/1981\n"
     ]
    }
   ],
   "source": [
    "#Criar as variáveis\n",
    "nome = input('Digite seu nome ')\n",
    "cidade = input('Qual a cidade que você mora? ')\n",
    "estado = input('Em qual estado você nasceu? ')\n",
    "dt_nascimento = input('Qual a sua data de nascimento ex. dd/mm/aaaa? ')\n",
    "\n"
   ]
  },
  {
   "cell_type": "code",
   "execution_count": 13,
   "id": "cc33f279",
   "metadata": {},
   "outputs": [
    {
     "name": "stdout",
     "output_type": "stream",
     "text": [
      "Seu nome é Ricardo Pereira \n",
      "A cidade que você mora é Uruburetama\n",
      "O estado que você nasceu é Pernambuco\n",
      "Sua data de nascimento é  05/07/1981\n"
     ]
    }
   ],
   "source": [
    "#Exibir na tela\n",
    "\n",
    "print('Seu nome é', nome)\n",
    "print('A cidade que você mora é', cidade)\n",
    "print('O estado que você nasceu é', estado)\n",
    "print('Sua data de nascimento é ', dt_nascimento)"
   ]
  },
  {
   "cell_type": "code",
   "execution_count": null,
   "id": "94789df3",
   "metadata": {},
   "outputs": [],
   "source": []
  }
 ],
 "metadata": {
  "kernelspec": {
   "display_name": "Python 3 (ipykernel)",
   "language": "python",
   "name": "python3"
  },
  "language_info": {
   "codemirror_mode": {
    "name": "ipython",
    "version": 3
   },
   "file_extension": ".py",
   "mimetype": "text/x-python",
   "name": "python",
   "nbconvert_exporter": "python",
   "pygments_lexer": "ipython3",
   "version": "3.9.7"
  }
 },
 "nbformat": 4,
 "nbformat_minor": 5
}
