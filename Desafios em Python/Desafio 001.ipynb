{
 "cells": [
  {
   "cell_type": "markdown",
   "id": "f5869cca",
   "metadata": {},
   "source": [
    "### Desafio 01: Faça um Programa que peça o raio de um círculo, calcule e mostre sua área."
   ]
  },
  {
   "cell_type": "code",
   "execution_count": 40,
   "id": "b33916cf",
   "metadata": {},
   "outputs": [
    {
     "name": "stdout",
     "output_type": "stream",
     "text": [
      "Digite o raio 1\n",
      "Uma circunferência de raio 1cm tem uma área de 3.14cm^2 \n"
     ]
    }
   ],
   "source": [
    "raio = int(input('Digite o raio '))\n",
    "area = 3.14 * (raio**2)\n",
    "\n",
    "print('Uma circunferência de raio {}cm tem uma área de {}cm^2 '.format(raio, area))"
   ]
  },
  {
   "cell_type": "code",
   "execution_count": null,
   "id": "d62cf7a4",
   "metadata": {},
   "outputs": [],
   "source": []
  }
 ],
 "metadata": {
  "kernelspec": {
   "display_name": "Python 3 (ipykernel)",
   "language": "python",
   "name": "python3"
  },
  "language_info": {
   "codemirror_mode": {
    "name": "ipython",
    "version": 3
   },
   "file_extension": ".py",
   "mimetype": "text/x-python",
   "name": "python",
   "nbconvert_exporter": "python",
   "pygments_lexer": "ipython3",
   "version": "3.9.7"
  }
 },
 "nbformat": 4,
 "nbformat_minor": 5
}
